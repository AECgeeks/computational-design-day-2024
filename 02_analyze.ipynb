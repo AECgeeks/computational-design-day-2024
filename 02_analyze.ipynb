{
 "cells": [
  {
   "cell_type": "code",
   "execution_count": null,
   "id": "812ff7bf",
   "metadata": {},
   "outputs": [],
   "source": [
    "import ifcopenshell\n",
    "import ifcopenshell.geom\n",
    "\n",
    "from matplotlib import pyplot as plt\n",
    "from collections import defaultdict "
   ]
  },
  {
   "cell_type": "code",
   "execution_count": null,
   "id": "3729f5a8",
   "metadata": {},
   "outputs": [],
   "source": [
    "f = ifcopenshell.open(\"models/Duplex_A_20110907_optimized.ifc\")"
   ]
  },
  {
   "cell_type": "code",
   "execution_count": null,
   "id": "3546cde1",
   "metadata": {},
   "outputs": [],
   "source": [
    "def get_key_values(pset):\n",
    "    def to_tuple(prop):\n",
    "        if prop.is_a(\"IfcPropertySingleValue\"):\n",
    "            return prop.Name, prop.NominalValue.wrappedValue\n",
    "        elif prop.is_a(\"IfcPhysicalQuantity\"):\n",
    "            return prop.Name, prop[2]\n",
    "        \n",
    "    if pset.is_a(\"IfcPropertySet\"):\n",
    "        return tuple(map(to_tuple, pset.HasProperties))\n",
    "    elif pset.is_a(\"IfcElementQuantity\"):\n",
    "        return tuple(map(to_tuple, pset.Quantities))\n",
    "    else: return ()\n",
    "\n",
    "def get_space_volumes():\n",
    "    for space in f.by_type(\"IfcSpace\"):\n",
    "        key_values = [get_key_values(rel.RelatingPropertyDefinition) for rel in space.IsDefinedBy]\n",
    "        props = dict(sum(key_values, ()))\n",
    "        yield space, props.get(\"Volume\")\n",
    "    \n",
    "space_volumes = list(get_space_volumes())"
   ]
  },
  {
   "cell_type": "code",
   "execution_count": null,
   "id": "1a1170b3",
   "metadata": {},
   "outputs": [],
   "source": [
    "get_ipython().run_line_magic('matplotlib', 'inline')\n",
    "\n",
    "plt.figure(figsize=(10,5))\n",
    "plt.title(\"Distribution of space volumes\")\n",
    "plt.hist([v[1] for v in space_volumes], bins=24);"
   ]
  },
  {
   "cell_type": "code",
   "execution_count": null,
   "id": "07b3edaa",
   "metadata": {},
   "outputs": [],
   "source": [
    "get_ipython().run_line_magic('matplotlib', 'inline')\n",
    "\n",
    "by_category = defaultdict(float)\n",
    "\n",
    "for space, volume in space_volumes:\n",
    "    cat = \"\".join(filter(str.isalpha, space.LongName))\n",
    "    by_category[cat] += volume\n",
    "    \n",
    "plt.figure(figsize=(10,5))\n",
    "plt.title(\"Distribution of space volumes\")\n",
    "plt.bar(list(by_category.keys()), list(by_category.values()));"
   ]
  }
 ],
 "metadata": {
  "hide_input": false,
  "kernelspec": {
   "display_name": "Python 3 (ipykernel)",
   "language": "python",
   "name": "python3"
  },
  "language_info": {
   "codemirror_mode": {
    "name": "ipython",
    "version": 3
   },
   "file_extension": ".py",
   "mimetype": "text/x-python",
   "name": "python",
   "nbconvert_exporter": "python",
   "pygments_lexer": "ipython3",
   "version": "3.10.13"
  }
 },
 "nbformat": 4,
 "nbformat_minor": 5
}
