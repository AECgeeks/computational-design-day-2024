{
 "cells": [
  {
   "cell_type": "markdown",
   "id": "fac28008-4c8e-4b9b-bbec-f9c840d654bf",
   "metadata": {},
   "source": [
    "This is an updated version of a Blog posts at http://www.pythonocc.org/quick-examples/machine-learning-and-building-models/ that is unfortunately no longer online"
   ]
  },
  {
   "cell_type": "markdown",
   "id": "823f07f7-8bfa-4698-a692-98e9684131e7",
   "metadata": {},
   "source": [
    "![](img/ml01.png)"
   ]
  },
  {
   "cell_type": "markdown",
   "id": "18f4c11a-02ef-4839-8ee3-db9b35cd6052",
   "metadata": {},
   "source": [
    "In the post I will outline a recent research project in which we looked into Machine Learning for the classification and validation of IFC models (Krijnen & Tamke, 2015). A copy of the full paper can be found here: http://link.springer.com/chapter/10.1007%2F978-3-319-24208-8_33\n",
    "\n",
    "It is common practice to use automation for finding design errors in building models. Proprietary applications exist that hardcode such design rules into fixed program code. These rules are then explicitly stated and match the legislation and norms that a building has to comply to. However:\n",
    "\n",
    "- Formalizing these requirements into computationally decidable logic can be a daunting task\n",
    "- Furthermore, within these definitions rules that relate to common sense (e.g. there should be enough room for a door to be opened) are typically not defined\n",
    "\n",
    "Machine Learning can complement these imperative design validation procedures as it enables automated processes to gather common constellations of building elements and flag situations that deviate from what is typically constructed. Note that such situations are then not necessarily wrong, but they could be an indication to simply have another look.\n",
    "\n",
    "In this particular case we predominantly look into geometrical descriptors for elements individually. Elements of that same type that are different from the norm can then be found. The code example below, shows the relative ease of accomplishing something similar by relying on modules such as IfcOpenShell and pythonOCC. It leads to the discovery of a set of elements that should not have been characterized as walls, but rather are beams. Such kinds of misclassification errors might seem trivial, but can cause havoc as rules apply to specific classes of elements and disciplines operate on the elements that match their expertise. Therefore in this case, the structural engineer might overlook these elements if they have been misclassified as architectural walls."
   ]
  },
  {
   "cell_type": "code",
   "execution_count": null,
   "id": "283ce96d-113d-459a-a099-a7ab5d6e630f",
   "metadata": {},
   "outputs": [],
   "source": [
    "import operator\n",
    "\n",
    "import OCC.Core.GProp\n",
    "import OCC.Core.BRepGProp\n",
    "\n",
    "import ifcopenshell\n",
    "import ifcopenshell.geom\n",
    "\n",
    "import numpy\n",
    "\n",
    "# RGBA colors for the visualisation of elements\n",
    "RED, GRAY = (1,0,0,1), (0.6, 0.6, 0.6, 0.1)\n",
    "\n",
    "ifc_file = ifcopenshell.open(\"models/Duplex_A_20110907_optimized.ifc\")\n",
    "\n",
    "# Settings to specify usage of pyOCC\n",
    "settings = ifcopenshell.geom.settings()\n",
    "settings.set(settings.USE_PYTHON_OPENCASCADE, True)\n",
    "\n",
    "# Some helper functions to map to the list of walls\n",
    "def create_shape(elem):\n",
    "    return ifcopenshell.geom.create_shape(settings, elem)\n",
    "\n",
    "def calc_volume(s):\n",
    "    props = OCC.Core.GProp.GProp_GProps()\n",
    "    OCC.Core.BRepGProp.brepgprop_VolumeProperties(s.geometry, props)\n",
    "    return props.Mass()\n",
    "    \n",
    "def calc_area(s):\n",
    "    props = OCC.Core.GProp.GProp_GProps()\n",
    "    OCC.Core.BRepGProp.brepgprop_SurfaceProperties(s.geometry, props)\n",
    "    return props.Mass()\n",
    "    \n",
    "def normalize(li):\n",
    "    mean, std = numpy.mean(li), numpy.std(li)\n",
    "    return map(lambda v: abs(v-mean) / std, li)\n",
    "\n",
    "# Obtain a list of walls from the model\n",
    "walls = ifc_file.by_type(\"IfcWall\")\n",
    "# Create geometry for these walls\n",
    "shapes = list(map(create_shape, walls))\n",
    "# Calculate their volumes\n",
    "volumes = list(map(calc_volume, shapes))\n",
    "# Calculate their surface areas\n",
    "areas = list(map(calc_area, shapes))\n",
    "# Compose a feature from the two measures\n",
    "feature = normalize(list(map(operator.truediv, areas, volumes)))\n",
    "\n",
    "# Initialize the viewer\n",
    "from ifc_viewer import ifc_viewer\n",
    "        \n",
    "viewer = ifc_viewer()\n",
    "\n",
    "# Loop over the sorted pairs of feature\n",
    "# values and corresponding geometry\n",
    "for d, _, s in sorted(zip(feature, range(len(walls)), shapes)):\n",
    "    c = RED if d > 1. else GRAY\n",
    "    viewer.DisplayShape(s.geometry, shape_color=c[0:3])\n",
    "\n",
    "viewer.Display()"
   ]
  }
 ],
 "metadata": {
  "kernelspec": {
   "display_name": "Python 3 (ipykernel)",
   "language": "python",
   "name": "python3"
  },
  "language_info": {
   "codemirror_mode": {
    "name": "ipython",
    "version": 3
   },
   "file_extension": ".py",
   "mimetype": "text/x-python",
   "name": "python",
   "nbconvert_exporter": "python",
   "pygments_lexer": "ipython3",
   "version": "3.10.13"
  }
 },
 "nbformat": 4,
 "nbformat_minor": 5
}
