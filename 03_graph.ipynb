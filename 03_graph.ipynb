{
 "cells": [
  {
   "cell_type": "code",
   "execution_count": null,
   "id": "66a64dac",
   "metadata": {},
   "outputs": [],
   "source": [
    "import ifcopenshell.geom\n",
    "import numpy\n",
    "\n",
    "s = ifcopenshell.geom.settings(\n",
    "    # USE_PYTHON_OPENCASCADE=True,\n",
    "    USE_WORLD_COORDS=True,\n",
    "    DISABLE_OPENING_SUBTRACTIONS=True)\n",
    "\n",
    "f = ifcopenshell.open(\"models/Duplex_A_20110907_optimized.ifc\")\n",
    "it = ifcopenshell.geom.iterator(s, f, include=(\"IfcWall\",))\n",
    "t = ifcopenshell.geom.tree()\n",
    "zs = {}\n",
    "if it.initialize():\n",
    "    for elem in ifcopenshell.geom.consume_iterator(it):\n",
    "        t.add_element(it.get_native())\n",
    "        arr = numpy.array(it.get().geometry.verts).reshape((-1, 3))\n",
    "        zs[elem.id] = numpy.average(arr.T[2])\n",
    "        "
   ]
  },
  {
   "cell_type": "code",
   "execution_count": null,
   "id": "2ffa24b5",
   "metadata": {},
   "outputs": [],
   "source": [
    "import networkx as nx\n",
    "import ifcopenshell.util.element\n",
    "import bisect\n",
    "\n",
    "storeys = sorted(s.Elevation for s in f.by_type('IfcBuildingStorey'))\n",
    "\n",
    "g = nx.Graph()\n",
    "\n",
    "def same_storey(a, b):\n",
    "    s1, s2 = (ifcopenshell.util.element.get_container(x) for x in (a,b))\n",
    "    return s1 == s2\n",
    "\n",
    "def same_storey(a, b):\n",
    "    s1, s2 = (bisect.bisect_left(storeys, zs[x]) for x in (a,b))\n",
    "    return s1 == s2\n",
    "\n",
    "for w in f.by_type(\"IfcWall\"):\n",
    "    for xid in [x.id() for x in t.select(w, extend=0.01)]:\n",
    "        if xid != w.id():\n",
    "            g.add_edge(w.id(), xid)"
   ]
  },
  {
   "cell_type": "code",
   "execution_count": null,
   "id": "e6c906c8",
   "metadata": {},
   "outputs": [],
   "source": [
    "import matplotlib.pyplot as plt\n",
    "%matplotlib inline\n",
    "\n",
    "N = nx.number_connected_components(g)\n",
    "fig, axes = plt.subplots(1, N, figsize=(5*N, 5))\n",
    "for i, comp in enumerate(nx.connected_components(g)):\n",
    "    gg = nx.subgraph(g, comp)\n",
    "    pos = nx.spring_layout(gg, iterations=1000)\n",
    "    nx.draw(gg, pos=pos, ax=axes[i], node_size=10)\n",
    "    "
   ]
  },
  {
   "cell_type": "markdown",
   "id": "8a7adbc4",
   "metadata": {},
   "source": [
    "## Questions\n",
    "\n",
    "* Why is this graph such a mess? (i.e not planar)\n",
    "* What are the two connected components of 4 elements?\n",
    "* How can we extend this to incorporate IfcSpace?"
   ]
  }
 ],
 "metadata": {
  "hide_input": false,
  "kernelspec": {
   "display_name": "Python 3 (ipykernel)",
   "language": "python",
   "name": "python3"
  },
  "language_info": {
   "codemirror_mode": {
    "name": "ipython",
    "version": 3
   },
   "file_extension": ".py",
   "mimetype": "text/x-python",
   "name": "python",
   "nbconvert_exporter": "python",
   "pygments_lexer": "ipython3",
   "version": "3.10.13"
  }
 },
 "nbformat": 4,
 "nbformat_minor": 5
}
