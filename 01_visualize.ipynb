{
 "cells": [
  {
   "cell_type": "markdown",
   "id": "805f067f",
   "metadata": {},
   "source": [
    "An example of interactively exploring a model. By doing imports and file \n",
    "parsing in dedicated cells, results of time-consuming operations can be \n",
    "re-used. "
   ]
  },
  {
   "cell_type": "code",
   "execution_count": null,
   "id": "835e2906",
   "metadata": {},
   "outputs": [],
   "source": [
    "import ifcopenshell\n",
    "import ifcopenshell.geom\n",
    "\n",
    "f = ifcopenshell.open(\"models/Duplex_A_20110907_optimized.ifc\")"
   ]
  },
  {
   "cell_type": "markdown",
   "id": "992e2d12",
   "metadata": {},
   "source": [
    "The same applies to the geometry generation, which is in general more \n",
    "time consuming then parsing. PythonOCC TopoDS_Shapes are stored in a \n",
    "global dictionary for later use. `ifcopenshell.geom.iterator` is more \n",
    "efficient than `ifcopenshell.geom.create_shape()` as it is able to cache \n",
    "shared definitions for subsequent products. "
   ]
  },
  {
   "cell_type": "code",
   "execution_count": null,
   "id": "c045a469",
   "metadata": {},
   "outputs": [],
   "source": [
    "s = ifcopenshell.geom.settings()\n",
    "s.set(s.USE_PYTHON_OPENCASCADE, True)\n",
    "geometry = dict((f[item.data.id], (item.geometry, item.styles)) for item in ifcopenshell.geom.iterator(s, f, include=(\"IfcWall\", )))"
   ]
  },
  {
   "cell_type": "code",
   "execution_count": null,
   "id": "d7350142",
   "metadata": {},
   "outputs": [],
   "source": [
    "from ifc_viewer import ifc_viewer\n",
    "        \n",
    "viewer = ifc_viewer()\n",
    "\n",
    "for product, (shape, styles) in geometry.items():\n",
    "    viewer.Add(product, shape, styles)\n",
    "\n",
    "viewer.Display()"
   ]
  },
  {
   "cell_type": "code",
   "execution_count": null,
   "id": "f1c52ed2-a30d-4e5c-9639-d0bfdad3a35a",
   "metadata": {},
   "outputs": [],
   "source": [
    "\n",
    "import OCC.Display.WebGl.jupyter_renderer\n",
    "print(OCC.Display.WebGl.jupyter_renderer.__file__)"
   ]
  },
  {
   "cell_type": "code",
   "execution_count": null,
   "id": "2532b92c-9455-4161-9698-6a31c3a91b0b",
   "metadata": {},
   "outputs": [],
   "source": [
    "s = list(geometry.values())[0][0]\n",
    "\n",
    "{s: 123}[s]"
   ]
  }
 ],
 "metadata": {
  "hide_input": false,
  "kernelspec": {
   "display_name": "Python 3 (ipykernel)",
   "language": "python",
   "name": "python3"
  },
  "language_info": {
   "codemirror_mode": {
    "name": "ipython",
    "version": 3
   },
   "file_extension": ".py",
   "mimetype": "text/x-python",
   "name": "python",
   "nbconvert_exporter": "python",
   "pygments_lexer": "ipython3",
   "version": "3.9.13"
  }
 },
 "nbformat": 4,
 "nbformat_minor": 5
}
